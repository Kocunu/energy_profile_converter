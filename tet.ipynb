{
 "cells": [
  {
   "cell_type": "markdown",
   "source": [
    "Die Funktion convert_interval\n",
    "\n",
    "Die Funktion namens convert_interval erledigt die Arbeit der Konvertierung von Daten von einem Intervall zu einem anderen. Sie benötigt drei Informationen: die ursprünglichen Daten (data), das ursprüngliche Intervall (old_interval) und das gewünschte Intervall (new_interval).\n",
    "Die leere Ergebnisliste result\n",
    "\n",
    "Wir erstellen eine leere Liste namens result, in der wir die umgewandelten Daten speichern werden.\n",
    "Fall 1: Wenn old_interval kleiner ist als new_interval (Häufiges Intervall zu Seltenem Intervall)\n",
    "\n",
    "In diesem Fall möchten wir Daten von einem häufigeren Intervall (zum Beispiel alle 15 Minuten) auf ein selteneres Intervall (zum Beispiel alle 30 Minuten) konvertieren.\n",
    "\n",
    "Wir verwenden eine Schleife, um durch die Daten zu gehen, und suchen nach Abschnitten (Chunks), die so groß sind wie das Verhältnis von new_interval zu old_interval. Zum Beispiel, wenn old_interval 15 Minuten und new_interval 30 Minuten beträgt, suchen wir nach Abschnitten, die 2 Elemente (30 // 15) enthalten.\n",
    "\n",
    "Wir nehmen diese Abschnitte von Daten, berechnen den Durchschnitt der Werte in jedem Abschnitt und fügen diesen Durchschnitt der Ergebnisliste result hinzu.\n",
    "\n",
    "Fall 2: Wenn old_interval größer ist als new_interval (Seltenes Intervall zu Häufigem Intervall)\n",
    "\n",
    "In diesem Fall möchten wir Daten von einem selteneren Intervall (zum Beispiel alle 30 Minuten) auf ein häufigeres Intervall (zum Beispiel alle 15 Minuten) konvertieren.\n",
    "\n",
    "Wir gehen durch jedes Element der ursprünglichen Daten und wiederholen dieses Element so oft, wie es das Verhältnis von old_interval zu new_interval vorgibt. Zum Beispiel, wenn old_interval 30 Minuten und new_interval 15 Minuten beträgt, wiederholen wir jedes Element zweimal.\n",
    "\n",
    "Die wiederholten Werte werden der Ergebnisliste result hinzugefügt.\n",
    "\n",
    "Fall 3: Wenn old_interval und new_interval gleich sind\n",
    "\n",
    "In diesem Fall ist keine Konvertierung erforderlich, da die Intervalle bereits gleich sind. Wir weisen einfach die ursprünglichen Daten der Ergebnisliste result zu.\n",
    "Die Funktion gibt die umgewandelten Daten zurück\n",
    "\n",
    "Schließlich gibt die Funktion die Liste result zurück, die die umgewandelten Daten enthält.\n",
    "Das ist im Wesentlichen, wie die convert_interval-Funktion arbeitet, um Daten zwischen verschiedenen Intervallen zu konvertieren, unabhängig davon, ob das neue Intervall größer oder kleiner ist als das alte Intervall.\n",
    "\n",
    "\n",
    "\n",
    "\n"
   ],
   "metadata": {
    "collapsed": false
   },
   "id": "1ae4cd04380abd4c"
  }
 ],
 "metadata": {
  "kernelspec": {
   "display_name": "Python 3",
   "language": "python",
   "name": "python3"
  },
  "language_info": {
   "codemirror_mode": {
    "name": "ipython",
    "version": 2
   },
   "file_extension": ".py",
   "mimetype": "text/x-python",
   "name": "python",
   "nbconvert_exporter": "python",
   "pygments_lexer": "ipython2",
   "version": "2.7.6"
  }
 },
 "nbformat": 4,
 "nbformat_minor": 5
}
